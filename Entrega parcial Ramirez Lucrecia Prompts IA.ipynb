{
 "cells": [
  {
   "cell_type": "raw",
   "id": "c193ba3b-6515-4c17-8c56-4fbc1e9b7fb6",
   "metadata": {},
   "source": [
    "Entrega Parcial Ramirez Lucrecia"
   ]
  },
  {
   "cell_type": "code",
   "execution_count": null,
   "id": "7078e7b0-744e-471d-bfe3-e84ce79b80e4",
   "metadata": {},
   "outputs": [],
   "source": []
  },
  {
   "cell_type": "raw",
   "id": "1c9eac4e-8fb6-481e-a21d-a72cfdb31238",
   "metadata": {},
   "source": [
    "# Few Shoot Prompting "
   ]
  },
  {
   "cell_type": "markdown",
   "id": "7222c4c1-e374-437a-9123-bba5d7c20d3d",
   "metadata": {},
   "source": [
    "La empresa del caso de estudio requiere un asistente virtual que pueda proveer a los empleados el estado actualizado de los pedidos pendientes de entrega.\n",
    "En la actualidad, solo un humano con acceso a la BBDD haciendo de intermediario entre el empleado y la misma puede proveer esta información, resultando costoso en tiempo y esfuerzo, siendo necesaria la automatización del proceso. "
   ]
  },
  {
   "cell_type": "markdown",
   "id": "b72d6510-92bc-4de4-9e11-21324c5d896d",
   "metadata": {},
   "source": [
    "#### Lab"
   ]
  },
  {
   "cell_type": "markdown",
   "id": "f48d1e4f-5bf0-4291-9f10-e4fa452dfee6",
   "metadata": {},
   "source": [
    "1. Import openAI dependences (load with conda install openai)"
   ]
  },
  {
   "cell_type": "code",
   "execution_count": 3,
   "id": "6f5e6bba-f9b0-4d27-a0c2-ceede346e2fd",
   "metadata": {
    "scrolled": true
   },
   "outputs": [],
   "source": [
    "\n",
    "#Import openAI dependences (module)\n",
    "import openai"
   ]
  },
  {
   "cell_type": "markdown",
   "id": "6180968b-5de0-4e1d-91e1-bb0607b62ebe",
   "metadata": {},
   "source": [
    "2. Use the API Key from openAI page"
   ]
  },
  {
   "cell_type": "code",
   "execution_count": 4,
   "id": "aaa13f6c-6aee-4ddd-92b7-33dbbf66ea3c",
   "metadata": {},
   "outputs": [],
   "source": [
    "#Add our API Key copied from openAI page\n",
    "openai.api_key = \"\" #Example -> dw-bQyr9128F49VJRNKAnST32lbkFJ2Zv4qEhWo4R0Xh6yrh15"
   ]
  },
  {
   "cell_type": "markdown",
   "id": "133396b5-0a78-4b9a-a1c0-8c81d7744f9b",
   "metadata": {},
   "source": [
    "Objetivo\n",
    "Crear una experiencia humanizada de esta solicitud de datos utilizando un LLM\n"
   ]
  },
  {
   "cell_type": "code",
   "execution_count": 5,
   "id": "f7c1fc76-a9ea-4df9-9324-d83bba8bfc0c",
   "metadata": {
    "scrolled": true
   },
   "outputs": [
    {
     "ename": "NameError",
     "evalue": "name 'openai' is not defined",
     "output_type": "error",
     "traceback": [
      "\u001b[0;31m---------------------------------------------------------------------------\u001b[0m",
      "\u001b[0;31mNameError\u001b[0m                                 Traceback (most recent call last)",
      "Cell \u001b[0;32mIn[5], line 34\u001b[0m\n\u001b[1;32m     27\u001b[0m prompt \u001b[38;5;241m=\u001b[39m \u001b[38;5;124mf\u001b[39m\u001b[38;5;124m\"\u001b[39m\u001b[38;5;124mHola Anabela, dónde está el pedido de \u001b[39m\u001b[38;5;124m'\u001b[39m\u001b[38;5;124mnombre_empresa\u001b[39m\u001b[38;5;124m'\u001b[39m\u001b[38;5;124m\"\u001b[39m\n\u001b[1;32m     29\u001b[0m conversation \u001b[38;5;241m=\u001b[39m [\n\u001b[1;32m     30\u001b[0m     {\u001b[38;5;124m\"\u001b[39m\u001b[38;5;124mrole\u001b[39m\u001b[38;5;124m\"\u001b[39m: \u001b[38;5;124m\"\u001b[39m\u001b[38;5;124msystem\u001b[39m\u001b[38;5;124m\"\u001b[39m, \u001b[38;5;124m\"\u001b[39m\u001b[38;5;124mcontent\u001b[39m\u001b[38;5;124m\"\u001b[39m: context},\n\u001b[1;32m     31\u001b[0m     {\u001b[38;5;124m\"\u001b[39m\u001b[38;5;124mrole\u001b[39m\u001b[38;5;124m\"\u001b[39m: \u001b[38;5;124m\"\u001b[39m\u001b[38;5;124muser\u001b[39m\u001b[38;5;124m\"\u001b[39m, \u001b[38;5;124m\"\u001b[39m\u001b[38;5;124mcontent\u001b[39m\u001b[38;5;124m\"\u001b[39m: prompt}\n\u001b[1;32m     32\u001b[0m ]\n\u001b[0;32m---> 34\u001b[0m response \u001b[38;5;241m=\u001b[39m \u001b[43mopenai\u001b[49m\u001b[38;5;241m.\u001b[39mChatCompletion\u001b[38;5;241m.\u001b[39mcreate(\n\u001b[1;32m     35\u001b[0m     model\u001b[38;5;241m=\u001b[39m\u001b[38;5;124m'\u001b[39m\u001b[38;5;124mgpt-3.5-turbo\u001b[39m\u001b[38;5;124m'\u001b[39m,\n\u001b[1;32m     36\u001b[0m     messages\u001b[38;5;241m=\u001b[39mconversation,\n\u001b[1;32m     37\u001b[0m     max_tokens\u001b[38;5;241m=\u001b[39m\u001b[38;5;241m500\u001b[39m\n\u001b[1;32m     38\u001b[0m )\n\u001b[1;32m     41\u001b[0m message \u001b[38;5;241m=\u001b[39m response\u001b[38;5;241m.\u001b[39mchoices[\u001b[38;5;241m0\u001b[39m][\u001b[38;5;124m'\u001b[39m\u001b[38;5;124mmessage\u001b[39m\u001b[38;5;124m'\u001b[39m]\n\u001b[1;32m     42\u001b[0m \u001b[38;5;28mprint\u001b[39m(\u001b[38;5;124m\"\u001b[39m\u001b[38;5;132;01m{}\u001b[39;00m\u001b[38;5;124m: \u001b[39m\u001b[38;5;132;01m{}\u001b[39;00m\u001b[38;5;124m\"\u001b[39m\u001b[38;5;241m.\u001b[39mformat(message[\u001b[38;5;124m'\u001b[39m\u001b[38;5;124mrole\u001b[39m\u001b[38;5;124m'\u001b[39m], message[\u001b[38;5;124m'\u001b[39m\u001b[38;5;124mcontent\u001b[39m\u001b[38;5;124m'\u001b[39m]))\n",
      "\u001b[0;31mNameError\u001b[0m: name 'openai' is not defined"
     ]
    },
    {
     "name": "stdout",
     "output_type": "stream",
     "text": [
      "Saliendo del programa. ¡Gracias!\n"
     ]
    }
   ],
   "source": [
    "# Contexto \n",
    "\n",
    "pedidos = [\n",
    "    {\"id_cliente\": 99277, \"nombre_empresa\": \"Carroll, Meadows and Aguilar\", \"fecha_pedido\": \"2024-06-22\", \"id_pedido\": 2046142, \"items_pedido\": [\"drive\", \"skin\", \"push\", \"operation\"], \"estado_pedido\": \"Delivered\"},\n",
    "    {\"id_cliente\": 89646, \"nombre_empresa\": \"Dennis, Long and Barrera\", \"fecha_pedido\": \"2024-08-29\", \"id_pedido\": 1926000, \"items_pedido\": [\"sister\", \"push\", \"career\"], \"estado_pedido\": \"Pending\"},\n",
    "    {\"id_cliente\": 76776, \"nombre_empresa\": \"Wilson PLC\", \"fecha_pedido\": \"2024-09-05\", \"id_pedido\": 4457747, \"items_pedido\": [\"several\", \"inside\", \"remain\", \"political\", \"relate\"], \"estado_pedido\": \"Cancelled\"},\n",
    "    {\"id_cliente\": 87384, \"nombre_empresa\": \"Barton-Nelson\", \"fecha_pedido\": \"2024-06-24\", \"id_pedido\": 5364133, \"items_pedido\": [\"go\", \"leave\"], \"estado_pedido\": \"Cancelled\"},\n",
    "    {\"id_cliente\": 32008, \"nombre_empresa\": \"Tran Ltd\", \"fecha_pedido\": \"2024-10-26\", \"id_pedido\": 6839848, \"items_pedido\": [\"rest\", \"lay\", \"institution\", \"culture\"], \"estado_pedido\": \"Cancelled\"},\n",
    "    {\"id_cliente\": 38553, \"nombre_empresa\": \"Ross-Smith\", \"fecha_pedido\": \"2024-10-18\", \"id_pedido\": 4642038, \"items_pedido\": [\"stage\", \"worker\", \"career\", \"rest\", \"conference\"], \"estado_pedido\": \"Cancelled\"},\n",
    "    {\"id_cliente\": 49650, \"nombre_empresa\": \"Garza Inc\", \"fecha_pedido\": \"2024-01-15\", \"id_pedido\": 3124714, \"items_pedido\": [\"kid\", \"image\", \"value\", \"cultural\"], \"estado_pedido\": \"Pending\"},\n",
    "    {\"id_cliente\": 94073, \"nombre_empresa\": \"Morales, Allen and Foster\", \"fecha_pedido\": \"2024-09-08\", \"id_pedido\": 7338496, \"items_pedido\": [\"glass\", \"together\", \"but\"], \"estado_pedido\": \"Pending\"},\n",
    "    {\"id_cliente\": 4222, \"nombre_empresa\": \"Moody-Phillips\", \"fecha_pedido\": \"2024-06-06\", \"id_pedido\": 4003301, \"items_pedido\": [\"throughout\"], \"estado_pedido\": \"Shipped\"},\n",
    "    {\"id_cliente\": 13676, \"nombre_empresa\": \"Harmon-Lee\", \"fecha_pedido\": \"2024-01-08\", \"id_pedido\": 2675328, \"items_pedido\": [\"far\"], \"estado_pedido\": \"Shipped\"},\n",
    "    {\"id_cliente\": 39748, \"nombre_empresa\": \"Hunter-Stanley\", \"fecha_pedido\": \"2024-06-01\", \"id_pedido\": 9357420, \"items_pedido\": [\"push\", \"the\"], \"estado_pedido\": \"Delivered\"},\n",
    "]\n",
    "\n",
    "context = f\"\"\"Sos una asistente argentina llamada Anabela, de 42 años, que se comunica con los usuarios usando los modismos rioplatenses\n",
    "(trata al otro de 'vos' y no de 'tu'). Sos muy cordial y amable, te comunicás de manera eficiente y cordial. \n",
    "Tu rol es interpretar el input del usuario e ir en busca de la información solicitada en el array {pedidos} . \n",
    "Los usuarios preguntarán por el estado de los pedidos: vas a encontrar esa información en la clave “estado_pedido”. \n",
    "Tus respuestas empezarán con frases como “Encontré que el estado del pedido  de \"nombre_empresa\", es \"estado_pedido\".\" \n",
    "Luego de brindar la información solicitada, vas a preguntarle a los usuarios si necesitan ayuda con otro pedido para repetir el proceso. \n",
    "En caso de que no encuentres o identifiques el pedido o el cliente, solicitá clarificación para poder avanzar de la siguiente manera "¿Podés brindarme más detalles para que pueda completar tu solicitud?". \n",
    "Las respuestas no deben ser mayores a 600 caracteres. \"\"\"\n",
    "\n",
    "\n",
    "prompt = f\"Hola Anabela, dónde está el pedido de 'nombre_empresa'\"\n",
    "\n",
    "conversation = [\n",
    "    {\"role\": \"system\", \"content\": context},\n",
    "    {\"role\": \"user\", \"content\": prompt}\n",
    "]\n",
    "\n",
    "response = openai.ChatCompletion.create(\n",
    "    model='gpt-3.5-turbo',\n",
    "    messages=conversation,\n",
    "    max_tokens=500\n",
    ")\n",
    "\n",
    "\n",
    "message = response.choices[0]['message']\n",
    "print(\"{}: {}\".format(message['role'], message['content']))\n",
    "\n",
    "\n",
    "\n",
    "if {nombre.cliente}:\n",
    "    print(\"No encuentro el cliente solicitado\")\n",
    "    # Pregunta si se quiere hacer otra pregunta\n",
    "    another_question = input(\"¿Querés volver a intentarlo? (Si/No): \").lower()\n",
    "\n",
    "    # Condicional para decidir si continuar o salir del bucle\n",
    "    if another_question != 'si':\n",
    "        print(\"Gracias por tu contacto. ¡Gracias!\")\n",
    "        break"
   ]
  },
  {
   "cell_type": "code",
   "execution_count": null,
   "id": "e99b85c3-6d02-4dbb-af94-8da6c7565abb",
   "metadata": {},
   "outputs": [],
   "source": []
  }
 ],
 "metadata": {
  "kernelspec": {
   "display_name": "Python 3 (ipykernel)",
   "language": "python",
   "name": "python3"
  },
  "language_info": {
   "codemirror_mode": {
    "name": "ipython",
    "version": 3
   },
   "file_extension": ".py",
   "mimetype": "text/x-python",
   "name": "python",
   "nbconvert_exporter": "python",
   "pygments_lexer": "ipython3",
   "version": "3.12.7"
  }
 },
 "nbformat": 4,
 "nbformat_minor": 5
}
