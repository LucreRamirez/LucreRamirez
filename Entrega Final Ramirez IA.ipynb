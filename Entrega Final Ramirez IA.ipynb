{
 "cells": [
  {
   "cell_type": "code",
   "execution_count": null,
   "id": "b014b6dc-2383-4ff4-b9ae-d9cd522d66f3",
   "metadata": {},
   "outputs": [],
   "source": [
    "#Ramírez, Lucrecia. Entrega final Ingeniería de Prompts: Coderhouse"
   ]
  },
  {
   "cell_type": "raw",
   "id": "6e0cfa3c-2fd3-45be-96e9-58e1ca537516",
   "metadata": {},
   "source": [
    "# Contexto del presente trabajo"
   ]
  },
  {
   "cell_type": "markdown",
   "id": "7222c4c1-e374-437a-9123-bba5d7c20d3d",
   "metadata": {},
   "source": [
    "Misión: Generar un prompt para crear un asistente virtual para una empresa de logística\n",
    "\n",
    "Presentación del problema: La empresa del caso de estudio requiere un asistente virtual que pueda proveer a los empleados el estado actualizado de los pedidos pendientes de entrega.\n",
    "En la actualidad, solo un humano con acceso a la BBDD haciendo de intermediario entre el empleado y la misma puede proveer esta información, resultando costoso en tiempo y esfuerzo, siendo necesaria la automatización del proceso. \n",
    "\n",
    "Objetivo: Crear una experiencia humanizada de esta solicitud de datos utilizando un LLM.\n",
    "\n",
    "Desarrollo de la propuesta de solución: Se propone crear un asistente virtual que pueda acceder a una BBDD y de respuesta a la solicitud del user a través del modelado de un prompt usando un LLM. "
   ]
  },
  {
   "cell_type": "markdown",
   "id": "b72d6510-92bc-4de4-9e11-21324c5d896d",
   "metadata": {},
   "source": [
    "#### Lab"
   ]
  },
  {
   "cell_type": "markdown",
   "id": "f48d1e4f-5bf0-4291-9f10-e4fa452dfee6",
   "metadata": {},
   "source": [
    "1. Import openAI dependences (load with conda install openai)"
   ]
  },
  {
   "cell_type": "code",
   "execution_count": null,
   "id": "6f5e6bba-f9b0-4d27-a0c2-ceede346e2fd",
   "metadata": {
    "scrolled": true
   },
   "outputs": [],
   "source": [
    "import openai"
   ]
  },
  {
   "cell_type": "markdown",
   "id": "6180968b-5de0-4e1d-91e1-bb0607b62ebe",
   "metadata": {},
   "source": [
    "2. Use the API Key from openAI page"
   ]
  },
  {
   "cell_type": "code",
   "execution_count": null,
   "id": "aaa13f6c-6aee-4ddd-92b7-33dbbf66ea3c",
   "metadata": {},
   "outputs": [],
   "source": [
    "#Add our API Key copied from openAI page\n",
    "llm = OpenAI(api_token=)\n"
   ]
  },
  {
   "cell_type": "markdown",
   "id": "709e0d6a-667d-4335-812c-861623de127a",
   "metadata": {},
   "source": [
    "Base de Datos de muestra"
   ]
  },
  {
   "cell_type": "code",
   "execution_count": null,
   "id": "12daa47a-d6c7-42ce-8dbc-844d06ff5a66",
   "metadata": {},
   "outputs": [],
   "source": [
    "\n",
    "# Contexto \n",
    "\n",
    "pedidos = [\n",
    "    {\"id_cliente\": 99277, \"nombre_empresa\": \"Carroll, Meadows and Aguilar\", \"fecha_pedido\": \"2024-06-22\", \"id_pedido\": 2046142, \"items_pedido\": [\"drive\", \"skin\", \"push\", \"operation\"], \"estado_pedido\": \"Delivered\"},\n",
    "    {\"id_cliente\": 89646, \"nombre_empresa\": \"Dennis, Long and Barrera\", \"fecha_pedido\": \"2024-08-29\", \"id_pedido\": 1926000, \"items_pedido\": [\"sister\", \"push\", \"career\"], \"estado_pedido\": \"Pending\"},\n",
    "    {\"id_cliente\": 76776, \"nombre_empresa\": \"Wilson PLC\", \"fecha_pedido\": \"2024-09-05\", \"id_pedido\": 4457747, \"items_pedido\": [\"several\", \"inside\", \"remain\", \"political\", \"relate\"], \"estado_pedido\": \"Cancelled\"},\n",
    "    {\"id_cliente\": 87384, \"nombre_empresa\": \"Barton-Nelson\", \"fecha_pedido\": \"2024-06-24\", \"id_pedido\": 5364133, \"items_pedido\": [\"go\", \"leave\"], \"estado_pedido\": \"Cancelled\"},\n",
    "    {\"id_cliente\": 32008, \"nombre_empresa\": \"Tran Ltd\", \"fecha_pedido\": \"2024-10-26\", \"id_pedido\": 6839848, \"items_pedido\": [\"rest\", \"lay\", \"institution\", \"culture\"], \"estado_pedido\": \"Cancelled\"},\n",
    "    {\"id_cliente\": 38553, \"nombre_empresa\": \"Ross-Smith\", \"fecha_pedido\": \"2024-10-18\", \"id_pedido\": 4642038, \"items_pedido\": [\"stage\", \"worker\", \"career\", \"rest\", \"conference\"], \"estado_pedido\": \"Cancelled\"},\n",
    "    {\"id_cliente\": 49650, \"nombre_empresa\": \"Garza Inc\", \"fecha_pedido\": \"2024-01-15\", \"id_pedido\": 3124714, \"items_pedido\": [\"kid\", \"image\", \"value\", \"cultural\"], \"estado_pedido\": \"Pending\"},\n",
    "    {\"id_cliente\": 94073, \"nombre_empresa\": \"Morales, Allen and Foster\", \"fecha_pedido\": \"2024-09-08\", \"id_pedido\": 7338496, \"items_pedido\": [\"glass\", \"together\", \"but\"], \"estado_pedido\": \"Pending\"},\n",
    "    {\"id_cliente\": 4222, \"nombre_empresa\": \"Moody-Phillips\", \"fecha_pedido\": \"2024-06-06\", \"id_pedido\": 4003301, \"items_pedido\": [\"throughout\"], \"estado_pedido\": \"Shipped\"},\n",
    "    {\"id_cliente\": 13676, \"nombre_empresa\": \"Harmon-Lee\", \"fecha_pedido\": \"2024-01-08\", \"id_pedido\": 2675328, \"items_pedido\": [\"far\"], \"estado_pedido\": \"Shipped\"},\n",
    "    {\"id_cliente\": 39748, \"nombre_empresa\": \"Hunter-Stanley\", \"fecha_pedido\": \"2024-06-01\", \"id_pedido\": 9357420, \"items_pedido\": [\"push\", \"the\"], \"estado_pedido\": \"Delivered\"},\n",
    "]\n",
    "\n",
    "context = f\"\"\"Sos una asistente argentina llamada Anabela, de 42 años, que se comunica con los usuarios usando los modismos rioplatenses\n",
    "(trata al otro de 'vos' y no de 'tu'). Sos muy cordial y amable, te comunicás de manera eficiente. \n",
    "Tu rol es interpretar el input del usuario e ir en busca de la información solicitada en el array {pedidos} . \n",
    "Los usuarios preguntarán por el estado de los pedidos: vas a encontrar esa información en la clave “estado_pedido”. \n",
    "Tus respuestas empezarán con frases como “Encontré que el estado del pedido  de \"nombre_empresa\", es \"estado_pedido\".\" \n",
    "Luego de brindar la información solicitada, vas a preguntarle a los usuarios si necesitan ayuda con otro pedido para repetir el proceso. \n",
    "En caso de que no encuentres o identifiques el pedido o el cliente, solicitá clarificación para poder avanzar. \n",
    "Las respuestas no deben ser mayores a 600 caracteres. \"\"\"\n"
   ]
  },
  {
   "cell_type": "markdown",
   "id": "6994a9a4-4e50-45ff-9975-9d7ab4b27b3a",
   "metadata": {},
   "source": [
    "prompt = \"Hola Anabela, dónde está el pedido de {nombre.cliente}\"\n",
    "\n",
    "conversation = [\n",
    "    {\"role\": \"system\", \"content\": context},\n",
    "    {\"role\": \"user\", \"content\": prompt}\n",
    "]\n",
    "\n",
    "response = openai.ChatCompletion.create(\n",
    "    model='gpt-3.5-turbo',\n",
    "    messages=conversation,\n",
    "    max_tokens=300\n",
    ")\n",
    "\n",
    "message = response.choices[0]['message']\n",
    "print(\"{}: {}\".format(message['role'], message['content']))"
   ]
  },
  {
   "cell_type": "code",
   "execution_count": null,
   "id": "8af78a81-1852-4cbd-9591-ea700b773aee",
   "metadata": {},
   "outputs": [],
   "source": [
    "# Make the request\n",
    "prompt_iterativo = \"En base a la respuesta que me diste, traeme la fecha del pedido\"\n",
    "\n",
    "pedidos = [\n",
    "    {\"id_cliente\": 99277, \"nombre_empresa\": \"Carroll, Meadows and Aguilar\", \"fecha_pedido\": \"2024-06-22\", \"id_pedido\": 2046142, \"items_pedido\": [\"drive\", \"skin\", \"push\", \"operation\"], \"estado_pedido\": \"Delivered\"},\n",
    "    {\"id_cliente\": 89646, \"nombre_empresa\": \"Dennis, Long and Barrera\", \"fecha_pedido\": \"2024-08-29\", \"id_pedido\": 1926000, \"items_pedido\": [\"sister\", \"push\", \"career\"], \"estado_pedido\": \"Pending\"},\n",
    "    {\"id_cliente\": 76776, \"nombre_empresa\": \"Wilson PLC\", \"fecha_pedido\": \"2024-09-05\", \"id_pedido\": 4457747, \"items_pedido\": [\"several\", \"inside\", \"remain\", \"political\", \"relate\"], \"estado_pedido\": \"Cancelled\"},\n",
    "    {\"id_cliente\": 87384, \"nombre_empresa\": \"Barton-Nelson\", \"fecha_pedido\": \"2024-06-24\", \"id_pedido\": 5364133, \"items_pedido\": [\"go\", \"leave\"], \"estado_pedido\": \"Cancelled\"},\n",
    "    {\"id_cliente\": 32008, \"nombre_empresa\": \"Tran Ltd\", \"fecha_pedido\": \"2024-10-26\", \"id_pedido\": 6839848, \"items_pedido\": [\"rest\", \"lay\", \"institution\", \"culture\"], \"estado_pedido\": \"Cancelled\"},\n",
    "    {\"id_cliente\": 38553, \"nombre_empresa\": \"Ross-Smith\", \"fecha_pedido\": \"2024-10-18\", \"id_pedido\": 4642038, \"items_pedido\": [\"stage\", \"worker\", \"career\", \"rest\", \"conference\"], \"estado_pedido\": \"Cancelled\"},\n",
    "    {\"id_cliente\": 49650, \"nombre_empresa\": \"Garza Inc\", \"fecha_pedido\": \"2024-01-15\", \"id_pedido\": 3124714, \"items_pedido\": [\"kid\", \"image\", \"value\", \"cultural\"], \"estado_pedido\": \"Pending\"},\n",
    "    {\"id_cliente\": 94073, \"nombre_empresa\": \"Morales, Allen and Foster\", \"fecha_pedido\": \"2024-09-08\", \"id_pedido\": 7338496, \"items_pedido\": [\"glass\", \"together\", \"but\"], \"estado_pedido\": \"Pending\"},\n",
    "    {\"id_cliente\": 4222, \"nombre_empresa\": \"Moody-Phillips\", \"fecha_pedido\": \"2024-06-06\", \"id_pedido\": 4003301, \"items_pedido\": [\"throughout\"], \"estado_pedido\": \"Shipped\"},\n",
    "    {\"id_cliente\": 13676, \"nombre_empresa\": \"Harmon-Lee\", \"fecha_pedido\": \"2024-01-08\", \"id_pedido\": 2675328, \"items_pedido\": [\"far\"], \"estado_pedido\": \"Shipped\"},\n",
    "    {\"id_cliente\": 39748, \"nombre_empresa\": \"Hunter-Stanley\", \"fecha_pedido\": \"2024-06-01\", \"id_pedido\": 9357420, \"items_pedido\": [\"push\", \"the\"], \"estado_pedido\": \"Delivered\"},\n",
    "]\n",
    "\n",
    "conversation = [\n",
    "    {\"role\": \"system\", \"content\": context},\n",
    "    {\"role\": \"user\", \"content\": \"Como asistente virtual con acceso al array {pedidos} podes brindar informacion adicional sobre el pedido que el user te ha solicitado\"\n",
    "    {\"role\": \"user\", \"content\": f\" En base a la respuesta {prompt_iterativo} describi lo que pide el user\",\n",
    "    {\"role\": \"user\", \"content\": prompt_iterative1},\n",
    "]\n",
    "\n",
    "response = openai.ChatCompletion.create(\n",
    "    model='gpt-3.5-turbo',\n",
    "    messages=conversation,\n",
    "    max_tokens=500\n",
    ")\n",
    "\n",
    "message = response.choices[0]['message']\n",
    "print(\"{}: {}\".format(message['role'], message['content']))"
   ]
  },
  {
   "cell_type": "code",
   "execution_count": null,
   "id": "4d7e4a5e-a70b-42bc-b436-554f5c78c9c6",
   "metadata": {},
   "outputs": [],
   "source": []
  }
 ],
 "metadata": {
  "kernelspec": {
   "display_name": "Python 3 (ipykernel)",
   "language": "python",
   "name": "python3"
  },
  "language_info": {
   "codemirror_mode": {
    "name": "ipython",
    "version": 3
   },
   "file_extension": ".py",
   "mimetype": "text/x-python",
   "name": "python",
   "nbconvert_exporter": "python",
   "pygments_lexer": "ipython3",
   "version": "3.12.7"
  }
 },
 "nbformat": 4,
 "nbformat_minor": 5
}
